{
 "cells": [
  {
   "cell_type": "code",
   "execution_count": 35,
   "id": "f0f63461",
   "metadata": {},
   "outputs": [],
   "source": [
    "import pandas as pd"
   ]
  },
  {
   "cell_type": "code",
   "execution_count": 36,
   "id": "5d90984a",
   "metadata": {},
   "outputs": [],
   "source": [
    "vine_db = pd.read_csv('data/vine_db.csv')"
   ]
  },
  {
   "cell_type": "code",
   "execution_count": 37,
   "id": "4392ee37",
   "metadata": {},
   "outputs": [
    {
     "data": {
      "text/html": [
       "<div>\n",
       "<style scoped>\n",
       "    .dataframe tbody tr th:only-of-type {\n",
       "        vertical-align: middle;\n",
       "    }\n",
       "\n",
       "    .dataframe tbody tr th {\n",
       "        vertical-align: top;\n",
       "    }\n",
       "\n",
       "    .dataframe thead th {\n",
       "        text-align: right;\n",
       "    }\n",
       "</style>\n",
       "<table border=\"1\" class=\"dataframe\">\n",
       "  <thead>\n",
       "    <tr style=\"text-align: right;\">\n",
       "      <th></th>\n",
       "      <th>review_id</th>\n",
       "      <th>star_rating</th>\n",
       "      <th>helpful_votes</th>\n",
       "      <th>total_votes</th>\n",
       "      <th>vine</th>\n",
       "      <th>verified_purchase</th>\n",
       "    </tr>\n",
       "  </thead>\n",
       "  <tbody>\n",
       "    <tr>\n",
       "      <th>0</th>\n",
       "      <td>R3W4P9UBGNGH1U</td>\n",
       "      <td>2.0</td>\n",
       "      <td>1.0</td>\n",
       "      <td>3.0</td>\n",
       "      <td>N</td>\n",
       "      <td>Y</td>\n",
       "    </tr>\n",
       "    <tr>\n",
       "      <th>1</th>\n",
       "      <td>R15V54KBMTQWAY</td>\n",
       "      <td>4.0</td>\n",
       "      <td>0.0</td>\n",
       "      <td>0.0</td>\n",
       "      <td>N</td>\n",
       "      <td>N</td>\n",
       "    </tr>\n",
       "    <tr>\n",
       "      <th>2</th>\n",
       "      <td>RY8I449HNXSVF</td>\n",
       "      <td>5.0</td>\n",
       "      <td>0.0</td>\n",
       "      <td>0.0</td>\n",
       "      <td>N</td>\n",
       "      <td>Y</td>\n",
       "    </tr>\n",
       "    <tr>\n",
       "      <th>3</th>\n",
       "      <td>R18TLJYCKJFLSR</td>\n",
       "      <td>5.0</td>\n",
       "      <td>0.0</td>\n",
       "      <td>0.0</td>\n",
       "      <td>N</td>\n",
       "      <td>Y</td>\n",
       "    </tr>\n",
       "    <tr>\n",
       "      <th>4</th>\n",
       "      <td>R1NK26SWS53B8Q</td>\n",
       "      <td>5.0</td>\n",
       "      <td>0.0</td>\n",
       "      <td>0.0</td>\n",
       "      <td>N</td>\n",
       "      <td>Y</td>\n",
       "    </tr>\n",
       "    <tr>\n",
       "      <th>...</th>\n",
       "      <td>...</td>\n",
       "      <td>...</td>\n",
       "      <td>...</td>\n",
       "      <td>...</td>\n",
       "      <td>...</td>\n",
       "      <td>...</td>\n",
       "    </tr>\n",
       "    <tr>\n",
       "      <th>9002016</th>\n",
       "      <td>R3ZKCWKG4097P</td>\n",
       "      <td>4.0</td>\n",
       "      <td>12.0</td>\n",
       "      <td>12.0</td>\n",
       "      <td>N</td>\n",
       "      <td>N</td>\n",
       "    </tr>\n",
       "    <tr>\n",
       "      <th>9002017</th>\n",
       "      <td>R2D0X18EHNKEOJ</td>\n",
       "      <td>5.0</td>\n",
       "      <td>10.0</td>\n",
       "      <td>13.0</td>\n",
       "      <td>N</td>\n",
       "      <td>N</td>\n",
       "    </tr>\n",
       "    <tr>\n",
       "      <th>9002018</th>\n",
       "      <td>R292SJRN80H8OQ</td>\n",
       "      <td>4.0</td>\n",
       "      <td>1.0</td>\n",
       "      <td>6.0</td>\n",
       "      <td>N</td>\n",
       "      <td>N</td>\n",
       "    </tr>\n",
       "    <tr>\n",
       "      <th>9002019</th>\n",
       "      <td>R3HA5IXDCVJ65K</td>\n",
       "      <td>5.0</td>\n",
       "      <td>24.0</td>\n",
       "      <td>25.0</td>\n",
       "      <td>N</td>\n",
       "      <td>N</td>\n",
       "    </tr>\n",
       "    <tr>\n",
       "      <th>9002020</th>\n",
       "      <td>R3T0HNHSZUC0ZW</td>\n",
       "      <td>4.0</td>\n",
       "      <td>15.0</td>\n",
       "      <td>15.0</td>\n",
       "      <td>N</td>\n",
       "      <td>N</td>\n",
       "    </tr>\n",
       "  </tbody>\n",
       "</table>\n",
       "<p>9002021 rows × 6 columns</p>\n",
       "</div>"
      ],
      "text/plain": [
       "              review_id  star_rating  helpful_votes  total_votes vine  \\\n",
       "0        R3W4P9UBGNGH1U          2.0            1.0          3.0    N   \n",
       "1        R15V54KBMTQWAY          4.0            0.0          0.0    N   \n",
       "2         RY8I449HNXSVF          5.0            0.0          0.0    N   \n",
       "3        R18TLJYCKJFLSR          5.0            0.0          0.0    N   \n",
       "4        R1NK26SWS53B8Q          5.0            0.0          0.0    N   \n",
       "...                 ...          ...            ...          ...  ...   \n",
       "9002016   R3ZKCWKG4097P          4.0           12.0         12.0    N   \n",
       "9002017  R2D0X18EHNKEOJ          5.0           10.0         13.0    N   \n",
       "9002018  R292SJRN80H8OQ          4.0            1.0          6.0    N   \n",
       "9002019  R3HA5IXDCVJ65K          5.0           24.0         25.0    N   \n",
       "9002020  R3T0HNHSZUC0ZW          4.0           15.0         15.0    N   \n",
       "\n",
       "        verified_purchase  \n",
       "0                       Y  \n",
       "1                       N  \n",
       "2                       Y  \n",
       "3                       Y  \n",
       "4                       Y  \n",
       "...                   ...  \n",
       "9002016                 N  \n",
       "9002017                 N  \n",
       "9002018                 N  \n",
       "9002019                 N  \n",
       "9002020                 N  \n",
       "\n",
       "[9002021 rows x 6 columns]"
      ]
     },
     "execution_count": 37,
     "metadata": {},
     "output_type": "execute_result"
    }
   ],
   "source": [
    "vine_db"
   ]
  },
  {
   "cell_type": "code",
   "execution_count": 38,
   "id": "5d9652cb",
   "metadata": {},
   "outputs": [],
   "source": [
    "most_voted_reviews = vine_db[vine_db['total_votes'] >= 20]"
   ]
  },
  {
   "cell_type": "code",
   "execution_count": 40,
   "id": "082cc6db",
   "metadata": {},
   "outputs": [],
   "source": [
    "helpful_reviews = most_voted_reviews[most_voted_reviews['helpful_votes'] / most_voted_reviews['total_votes'] >= 0.5]"
   ]
  },
  {
   "cell_type": "code",
   "execution_count": 42,
   "id": "d3c28d14",
   "metadata": {},
   "outputs": [],
   "source": [
    "vine_yes = helpful_reviews[helpful_reviews['vine'] == 'Y']\n",
    "vine_no = helpful_reviews[helpful_reviews['vine'] == 'N']"
   ]
  },
  {
   "cell_type": "code",
   "execution_count": 66,
   "id": "d137154b",
   "metadata": {},
   "outputs": [
    {
     "name": "stdout",
     "output_type": "stream",
     "text": [
      "Total vine reviews: 613\n",
      "5-star vine reviews: 222\n",
      "5-star vine percentage: 36.22%\n"
     ]
    }
   ],
   "source": [
    "vine_total = vine_yes['review_id'].count()\n",
    "vine_5_stars = vine_yes['review_id'][vine_yes['star_rating'] == 5.0].count()\n",
    "vine_5star_percent = (vine_5_stars / vine_total) * 100\n",
    "print(f'Total vine reviews: {vine_total}')\n",
    "print(f'5-star vine reviews: {vine_5_stars}')\n",
    "print(f'5-star vine percentage: {vine_5star_percent:.2f}%')"
   ]
  },
  {
   "cell_type": "code",
   "execution_count": 67,
   "id": "80763f08",
   "metadata": {},
   "outputs": [
    {
     "name": "stdout",
     "output_type": "stream",
     "text": [
      "Total non-vine reviews: 64968\n",
      "5-star non-vine reviews: 30543\n",
      "5-star non-vine percentage: 47.01%\n"
     ]
    }
   ],
   "source": [
    "non_vine_total = vine_no['review_id'].count()\n",
    "non_vine_5_stars = vine_no['review_id'][vine_no['star_rating'] == 5.0].count()\n",
    "non_vine_5star_percent = (non_vine_5_stars / non_vine_total) * 100\n",
    "print(f'Total non-vine reviews: {non_vine_total}')\n",
    "print(f'5-star non-vine reviews: {non_vine_5_stars}')\n",
    "print(f'5-star non-vine percentage: {non_vine_5star_percent:.2f}%')"
   ]
  },
  {
   "cell_type": "code",
   "execution_count": null,
   "id": "35b50431",
   "metadata": {},
   "outputs": [],
   "source": []
  }
 ],
 "metadata": {
  "kernelspec": {
   "display_name": "Python 3 (ipykernel)",
   "language": "python",
   "name": "python3"
  },
  "language_info": {
   "codemirror_mode": {
    "name": "ipython",
    "version": 3
   },
   "file_extension": ".py",
   "mimetype": "text/x-python",
   "name": "python",
   "nbconvert_exporter": "python",
   "pygments_lexer": "ipython3",
   "version": "3.7.13"
  }
 },
 "nbformat": 4,
 "nbformat_minor": 5
}
