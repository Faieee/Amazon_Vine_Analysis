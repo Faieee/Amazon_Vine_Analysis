{
 "cells": [
  {
   "cell_type": "code",
   "execution_count": 2,
   "id": "27bfe342",
   "metadata": {},
   "outputs": [],
   "source": [
    "import pandas as pd"
   ]
  },
  {
   "cell_type": "code",
   "execution_count": 31,
   "id": "2e7bd276",
   "metadata": {},
   "outputs": [],
   "source": [
    "customer_df_csv = pd.read_csv('customers_df.csv', index_col=False)"
   ]
  },
  {
   "cell_type": "code",
   "execution_count": 32,
   "id": "291b9701",
   "metadata": {},
   "outputs": [
    {
     "data": {
      "text/plain": [
       "0          46909180\n",
       "1          42560427\n",
       "2          43789873\n",
       "3          22037526\n",
       "4          34220092\n",
       "             ...   \n",
       "5197900    53094867\n",
       "5197901    53095028\n",
       "5197902    53095202\n",
       "5197903    53095674\n",
       "5197904    53095976\n",
       "Name: customer_id, Length: 5197905, dtype: int64"
      ]
     },
     "execution_count": 32,
     "metadata": {},
     "output_type": "execute_result"
    }
   ],
   "source": [
    "customer_df_csv"
   ]
  },
  {
   "cell_type": "code",
   "execution_count": 33,
   "id": "327bdfa1",
   "metadata": {},
   "outputs": [],
   "source": [
    "customers_df = customer_df_csv.drop(columns=['Unnamed: 0'])"
   ]
  },
  {
   "cell_type": "code",
   "execution_count": 34,
   "id": "744375e9",
   "metadata": {},
   "outputs": [
    {
     "data": {
      "text/html": [
       "<div>\n",
       "<style scoped>\n",
       "    .dataframe tbody tr th:only-of-type {\n",
       "        vertical-align: middle;\n",
       "    }\n",
       "\n",
       "    .dataframe tbody tr th {\n",
       "        vertical-align: top;\n",
       "    }\n",
       "\n",
       "    .dataframe thead th {\n",
       "        text-align: right;\n",
       "    }\n",
       "</style>\n",
       "<table border=\"1\" class=\"dataframe\">\n",
       "  <thead>\n",
       "    <tr style=\"text-align: right;\">\n",
       "      <th></th>\n",
       "      <th>customer_id</th>\n",
       "      <th>customer_count</th>\n",
       "    </tr>\n",
       "  </thead>\n",
       "  <tbody>\n",
       "    <tr>\n",
       "      <th>0</th>\n",
       "      <td>46909180</td>\n",
       "      <td>6</td>\n",
       "    </tr>\n",
       "    <tr>\n",
       "      <th>1</th>\n",
       "      <td>42560427</td>\n",
       "      <td>7</td>\n",
       "    </tr>\n",
       "    <tr>\n",
       "      <th>2</th>\n",
       "      <td>43789873</td>\n",
       "      <td>3</td>\n",
       "    </tr>\n",
       "    <tr>\n",
       "      <th>3</th>\n",
       "      <td>22037526</td>\n",
       "      <td>2</td>\n",
       "    </tr>\n",
       "    <tr>\n",
       "      <th>4</th>\n",
       "      <td>34220092</td>\n",
       "      <td>2</td>\n",
       "    </tr>\n",
       "    <tr>\n",
       "      <th>...</th>\n",
       "      <td>...</td>\n",
       "      <td>...</td>\n",
       "    </tr>\n",
       "    <tr>\n",
       "      <th>5197900</th>\n",
       "      <td>53094867</td>\n",
       "      <td>8</td>\n",
       "    </tr>\n",
       "    <tr>\n",
       "      <th>5197901</th>\n",
       "      <td>53095028</td>\n",
       "      <td>2</td>\n",
       "    </tr>\n",
       "    <tr>\n",
       "      <th>5197902</th>\n",
       "      <td>53095202</td>\n",
       "      <td>1</td>\n",
       "    </tr>\n",
       "    <tr>\n",
       "      <th>5197903</th>\n",
       "      <td>53095674</td>\n",
       "      <td>1</td>\n",
       "    </tr>\n",
       "    <tr>\n",
       "      <th>5197904</th>\n",
       "      <td>53095976</td>\n",
       "      <td>2</td>\n",
       "    </tr>\n",
       "  </tbody>\n",
       "</table>\n",
       "<p>5197905 rows × 2 columns</p>\n",
       "</div>"
      ],
      "text/plain": [
       "         customer_id  customer_count\n",
       "0           46909180               6\n",
       "1           42560427               7\n",
       "2           43789873               3\n",
       "3           22037526               2\n",
       "4           34220092               2\n",
       "...              ...             ...\n",
       "5197900     53094867               8\n",
       "5197901     53095028               2\n",
       "5197902     53095202               1\n",
       "5197903     53095674               1\n",
       "5197904     53095976               2\n",
       "\n",
       "[5197905 rows x 2 columns]"
      ]
     },
     "execution_count": 34,
     "metadata": {},
     "output_type": "execute_result"
    }
   ],
   "source": [
    "customers_df"
   ]
  },
  {
   "cell_type": "code",
   "execution_count": null,
   "id": "0f74b084",
   "metadata": {},
   "outputs": [],
   "source": []
  },
  {
   "cell_type": "code",
   "execution_count": null,
   "id": "3d506b91",
   "metadata": {},
   "outputs": [],
   "source": []
  }
 ],
 "metadata": {
  "kernelspec": {
   "display_name": "Python 3 (ipykernel)",
   "language": "python",
   "name": "python3"
  },
  "language_info": {
   "codemirror_mode": {
    "name": "ipython",
    "version": 3
   },
   "file_extension": ".py",
   "mimetype": "text/x-python",
   "name": "python",
   "nbconvert_exporter": "python",
   "pygments_lexer": "ipython3",
   "version": "3.7.13"
  }
 },
 "nbformat": 4,
 "nbformat_minor": 5
}
